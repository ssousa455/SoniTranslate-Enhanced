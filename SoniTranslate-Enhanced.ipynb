{
  "cells": [
    {
      "cell_type": "code",
      "execution_count": null,
      "metadata": {
        "id": "4GEnlKkcXUXB",
        "cellView": "form"
      },
      "outputs": [],
      "source": [
        "from google.colab import drive\n",
        "drive.mount('/content/drive')\n",
        "\n",
        "# Célula 1 - Instalação das dependências\n",
        "# @title Instalar requisitos para SoniTranslate\n",
        "import os\n",
        "%cd /content\n",
        "if not os.path.exists('/content/SoniTranslate'):\n",
        "    !git clone https://github.com/r3gm/SoniTranslate.git\n",
        "\n",
        "if not os.path.exists('/content/SoniTranslate/whisperX'):\n",
        "    !cd /content/SoniTranslate && git lfs install && sed -i 's|git+https://github.com/R3gm/whisperX.git@cuda\\_11\\_8|git+https://github.com/R3gm/whisperX.git@cuda\\_12\\_x|' requirements\\_base.txt\n",
        "\n",
        "\n",
        "# Instalações condicionais com if not os.path.exists para evitar reinstalações desnecessárias\n",
        "pacotes_a_instalar = [\n",
        "    \"chex\", \"pandas-stubs\", \"ibis-framework\", \"albumentations\", \"albucore\",\n",
        "    \"pip==23.1.2\", \"git-lfs\",\n",
        "    \"ort-nightly-gpu --index-url=https://aiinfra.pkgs.visualstudio.com/PublicPackages/\\_packaging/ort-cuda-12-nightly/pypi/simple/\"\n",
        "]\n",
        "\n",
        "for pacote in pacotes_a_instalar:\n",
        "    if not os.path.exists(f'/usr/local/lib/python3.10/dist-packages/{pacote.split()[0]}'): # Verifica a existência do pacote principal\n",
        "      !pip install -q {pacote}\n",
        "\n",
        "if not os.path.exists('/usr/local/lib/python3.10/dist-packages/piper_tts'):\n",
        "  Instalar_PIPER_TTS = True # @param {type:\"boolean\"}\n",
        "  if Instalar_PIPER_TTS:\n",
        "    !pip install -q piper-tts==1.2.0\n",
        "\n",
        "if not os.path.exists('/usr/local/lib/python3.10/dist-packages/TTS'):\n",
        "  Instalar_Coqui_XTTS = True # @param {type:\"boolean\"}\n",
        "  if Instalar_Coqui_XTTS:\n",
        "    !pip install -q -r /content/SoniTranslate/requirements_xtts.txt\n",
        "    !pip install -q TTS==0.21.1 --no-deps\n",
        "\n",
        "# Instala os requirements principais e extras dentro do diretório do projeto\n",
        "!pip install -q -r /content/SoniTranslate/requirements_base.txt\n",
        "!pip install -q -r /content/SoniTranslate/requirements_extra.txt\n",
        "\n",
        "import shutil\n",
        "import time\n",
        "from datetime import datetime\n",
        "\n",
        "def copiar_arquivos_para_drive(output_folder):\n",
        "    dubbing_folder = \"/content/drive/MyDrive/Dubbing\"\n",
        "    os.makedirs(dubbing_folder, exist_ok=True)\n",
        "    for arquivo in os.listdir(output_folder):\n",
        "        if arquivo.endswith('.mp4'):\n",
        "            caminho_origem = os.path.join(output_folder, arquivo)\n",
        "            caminho_destino = os.path.join(dubbing_folder, arquivo)\n",
        "            try:\n",
        "                shutil.copy2(caminho_origem, caminho_destino)\n",
        "                print(f\"Arquivo copiado: {caminho_destino}\")\n",
        "            except Exception as e:\n",
        "                print(f\"Erro ao copiar {arquivo}: {e}\")"
      ]
    },
    {
      "cell_type": "code",
      "execution_count": null,
      "metadata": {
        "id": "quIt7j-dXdgW",
        "cellView": "form"
      },
      "outputs": [],
      "source": [
        "# Célula 3 - Executar o SoniTranslate e copiar os arquivos\n",
        "%cd /content/SoniTranslate\n",
        "SEU_TOKEN_HF = \"\" # @param {type:'string'}\n",
        "%env SEU_TOKEN_HF={SEU_TOKEN_HF}\n",
        "tema = \"Taithrah/Minimal\" # @param [\"Taithrah/Minimal\", \"aliabid94/new-theme\", \"gstaff/xkcd\", \"ParityError/LimeFace\", \"abidlabs/pakistan\", \"rottenlittlecreature/Moon_Goblin\", \"ysharma/llamas\", \"gradio/dracula_revamped\"]\n",
        "idioma_interface = \"portuguese\" # @param ['english', 'portuguese']\n",
        "nivel_verbosidade = \"info\" # @param [\"debug\", \"info\", \"warning\", \"error\", \"critical\"]\n",
        "\n",
        "output_folder = \"/content/SoniTranslate/outputs\"\n",
        "\n",
        "try:\n",
        "    !cd /content/SoniTranslate && python app_rvc.py --theme {tema} --verbosity_level {nivel_verbosidade} --language {idioma_interface} --public_url\n",
        "except KeyboardInterrupt:\n",
        "    print(\"Execução interrompida pelo usuário.\")\n",
        "finally:\n",
        "    print(\"Copiando arquivos para o Google Drive...\")\n",
        "    copiar_arquivos_para_drive(output_folder)\n"
      ]
    }
  ],
  "metadata": {
    "colab": {
      "provenance": []
    },
    "kernelspec": {
      "display_name": "Python 3",
      "name": "python3"
    },
    "language_info": {
      "name": "python"
    }
  },
  "nbformat": 4,
  "nbformat_minor": 0
}